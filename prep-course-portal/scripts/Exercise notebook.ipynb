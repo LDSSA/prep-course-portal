{
 "cells": [
  {
   "cell_type": "markdown",
   "id": "statutory-celebrity",
   "metadata": {
    "nbgrader": {
     "grade": false,
     "grade_id": "cell-aa2264956cd14e87",
     "locked": true,
     "schema_version": 3,
     "solution": false,
     "task": false
    }
   },
   "source": [
    "# Submit your work!\n",
    "\n",
    "To submit your work, [get your slack id](https://moshfeu.medium.com/how-to-find-my-member-id-in-slack-workspace-d4bba942e38c) and assign your slack id to a `slack_id` variable in the cell bellow.\n",
    "Example:\n",
    "\n",
    "```python\n",
    "slack_id = \"UTS63FC02\"\n",
    "```\n",
    "\n",
    "Then, in the last cell, do the following steps in this order:\n",
    "1. Make sure the line `#grade_submit(...)` is a comment (starts with the `#` character)\n",
    "1. Save the notebook\n",
    "1. Uncomment the line `#grade_submit(...)` by removing the `#` character\n",
    "1. Run the last cell of the notebook\n",
    "1. You should get an output like `Success {\"id\":102,\"created\":\"2021-12-24T18:38:50.198035Z\",\"slackid\":\"UTS63FC02\",\"learning_unit\":0,\"exercise_notebook\":1,\"score\":20.0}`\n"
   ]
  },
  {
   "cell_type": "code",
   "execution_count": 2,
   "id": "efficient-poison",
   "metadata": {
    "nbgrader": {
     "grade": false,
     "grade_id": "cell-04995e54d9b0e3c4",
     "locked": false,
     "schema_version": 3,
     "solution": true,
     "task": false
    }
   },
   "outputs": [],
   "source": [
    "### BEGIN SOLUTION\n",
    "slackid = \"UTS63FC02\"\n",
    "### END SOLUTION\n",
    "# slackid ="
   ]
  },
  {
   "cell_type": "code",
   "execution_count": 5,
   "id": "unexpected-stranger",
   "metadata": {
    "nbgrader": {
     "grade": true,
     "grade_id": "cell-1d7c7c44c66fab01",
     "locked": true,
     "points": 20,
     "schema_version": 3,
     "solution": false,
     "task": false
    }
   },
   "outputs": [
    {
     "name": "stdout",
     "output_type": "stream",
     "text": [
      "Success {\"id\":102,\"created\":\"2021-12-24T18:38:50.198035Z\",\"slackid\":\"UTS63FC02\",\"learning_unit\":0,\"exercise_notebook\":1,\"score\":20.0}\n"
     ]
    }
   ],
   "source": [
    "from submit import grade_submit\n",
    "\n",
    "assert slackid is not None\n",
    "#grade_submit(notebook_name='Exercise notebook.ipynb', learning_unit=0, exercise_notebook=1, slackid=slackid)"
   ]
  }
 ],
 "metadata": {
  "celltoolbar": "Create Assignment",
  "kernelspec": {
   "display_name": "Python 3 (ipykernel)",
   "language": "python",
   "name": "python3"
  },
  "language_info": {
   "codemirror_mode": {
    "name": "ipython",
    "version": 3
   },
   "file_extension": ".py",
   "mimetype": "text/x-python",
   "name": "python",
   "nbconvert_exporter": "python",
   "pygments_lexer": "ipython3",
   "version": "3.7.12"
  }
 },
 "nbformat": 4,
 "nbformat_minor": 5
}
