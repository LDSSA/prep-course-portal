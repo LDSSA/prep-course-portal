{
 "cells": [
  {
   "cell_type": "code",
   "execution_count": 4,
   "id": "fd849296",
   "metadata": {},
   "outputs": [],
   "source": [
    "import os\n",
    "import django\n",
    "os.environ.setdefault('DJANGO_SETTINGS_MODULE', 'rest.settings')\n",
    "os.environ[\"DJANGO_ALLOW_ASYNC_UNSAFE\"] = \"true\"\n",
    "django.setup()"
   ]
  },
  {
   "cell_type": "code",
   "execution_count": 20,
   "id": "04a8c60d",
   "metadata": {},
   "outputs": [],
   "source": [
    "import json\n",
    "\n",
    "import pandas as pd\n",
    "import matplotlib.pyplot as plt\n",
    "\n",
    "from django.core import serializers"
   ]
  },
  {
   "cell_type": "code",
   "execution_count": 18,
   "id": "d5ec599e",
   "metadata": {},
   "outputs": [],
   "source": [
    "def get_submissions() -> pd.DataFrame:\n",
    "    '''Get all the submissions into a dataframe.'''\n",
    "    for sub in Submission.objects.all():\n",
    "        sub_dict = {\n",
    "            'created': sub.created,\n",
    "            'slackid': sub.slackid,\n",
    "            'learning_unit': sub.learning_unit,\n",
    "            'exercise_notebook': sub.exercise_notebook,\n",
    "            'score': sub.score,\n",
    "        }\n",
    "\n",
    "    data = serializers.serialize(\"json\", Submission.objects.all())\n",
    "    data = json.loads(data)\n",
    "    submissions = [sub['fields'] for sub in data]\n",
    "\n",
    "    df = pd.DataFrame(submissions)\n",
    "    \n",
    "    return df\n",
    "\n",
    "def get_submissions_plot_data(df: pd.DataFrame) -> pd.DataFrame:\n",
    "    '''\n",
    "    Transform the submissions data into a dataframe ready to be ploted.\n",
    "    \n",
    "    param df from get_submissions()\n",
    "    '''\n",
    "    df_plot = (\n",
    "        df\n",
    "        .groupby(['learning_unit', 'exercise_notebook'])\n",
    "        .slackid\n",
    "        .count()\n",
    "        .reset_index()\n",
    "        .pivot(index='learning_unit', columns='exercise_notebook', values='slackid')\n",
    "        .fillna(0)\n",
    "        .astype(int)\n",
    "    )\n",
    "    \n",
    "    return df_plot\n",
    "\n",
    "def plot_submissions(df_plot):\n",
    "    '''\n",
    "    Plot the submissions, save the plot.\n",
    "    \n",
    "    param df_plot from get_submissions_plot_data()\n",
    "    '''\n",
    "    ax = df_plot.plot.bar(figsize=(20, 4))\n",
    "    plt.xticks(rotation=0)\n",
    "    fig = ax.get_figure()\n",
    "    fig.savefig('plot_submissions.png')\n",
    "    \n"
   ]
  },
  {
   "cell_type": "code",
   "execution_count": 19,
   "id": "4fa7688f",
   "metadata": {},
   "outputs": [
    {
     "data": {
      "image/png": "[encoded data removed]",
      "text/plain": [
       "<Figure size 1440x288 with 1 Axes>"
      ]
     },
     "metadata": {
      "needs_background": "light"
     },
     "output_type": "display_data"
    }
   ],
   "source": [
    "df = get_submissions()\n",
    "df_plot = get_submissions_plot_data(df)\n",
    "plot_submissions(df_plot)"
   ]
  },
  {
   "cell_type": "code",
   "execution_count": null,
   "id": "00c0bed7",
   "metadata": {},
   "outputs": [],
   "source": []
  }
 ],
 "metadata": {
  "kernelspec": {
   "display_name": "Django Shell-Plus",
   "language": "python",
   "name": "django_extensions"
  },
  "language_info": {
   "codemirror_mode": {
    "name": "ipython",
    "version": 3
   },
   "file_extension": ".py",
   "mimetype": "text/x-python",
   "name": "python",
   "nbconvert_exporter": "python",
   "pygments_lexer": "ipython3",
   "version": "3.7.12"
  }
 },
 "nbformat": 4,
 "nbformat_minor": 5
}
